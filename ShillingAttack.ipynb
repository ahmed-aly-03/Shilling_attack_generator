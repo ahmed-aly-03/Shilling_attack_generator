{
 "cells": [
  {
   "cell_type": "code",
   "execution_count": 1,
   "id": "fdb636a5",
   "metadata": {
    "scrolled": true
   },
   "outputs": [],
   "source": [
    "from ML100KPrePreocessing import ML100KRatingMatrix\n",
    "from AmazonSoftwarePreprocessing import AmazonSoftwareRatingMatrix\n",
    "from AmazonFashionPreProcessing import AmazonFashionRatingMatrix\n",
    "import numpy as np\n",
    "from abc import ABC, abstractmethod\n",
    "import random \n",
    "import csv"
   ]
  },
  {
   "cell_type": "code",
   "execution_count": 2,
   "id": "b2b0512e",
   "metadata": {},
   "outputs": [],
   "source": [
    "class Attack (ABC): \n",
    "    def __init__(self,attacksize,fillersize,targetItems,k,dataset):#k is the size of selected items set. Also, for dataset select 0 for ML100k, 1 for Amazon Softawre, and 2 for Amazon fashion \n",
    "        self.attackSize = attacksize#number of fake profiles\n",
    "        self.fillerSize = fillersize#number of items rated by each fake profile\n",
    "\n",
    "        if dataset == 0: \n",
    "        \n",
    "            self.RM = ML100KRatingMatrix()\n",
    "            self.ratingMatrix = self.RM.createRatingMatrix()   \n",
    "            self.numberOfItems = self.RM.numberOfMovies\n",
    "            self.numberOfUsers = self.RM.numberOfUsers\n",
    "            \n",
    "        elif dataset == 1:\n",
    "            \n",
    "            self.RM = AmazonSoftwareRatingMatrix()\n",
    "            self.ratingMatrix = self.RM.createRatingMatrix()\n",
    "            self.numberOfItems = self.RM.numberOfItems\n",
    "            self.numberOfUsers = self.RM.numberOfUsers\n",
    "            \n",
    "        else:\n",
    "            \n",
    "            self.RM = AmazonFashionRatingMatrix()\n",
    "            self.ratingMatrix = self.RM.createRatingMatrix() \n",
    "            self.numberOfItems = self.RM.numberOfItems\n",
    "            self.numberOfUsers = self.RM.numberOfUsers\n",
    "             \n",
    "        self.shillingProfiles = np.zeros((self.attackSize,self.numberOfItems))\n",
    "        \n",
    "        self.fillerItems = np.zeros(self.fillerSize)\n",
    "        self.targetItems = targetItems\n",
    "        self.selectedItemSetSize = k\n",
    "        self.selectedItems = np.zeros(k)\n",
    "    \n",
    "    @abstractmethod\n",
    "    def createProfiles(self):\n",
    "        pass\n",
    "    \n",
    "    def randomNumberGenerator(self):\n",
    "        arr = []\n",
    "        while len(arr)<2*self.fillerSize:\n",
    "            new_item = random.randint(0,self.numberOfItems-1)\n",
    "            if new_item not in self.targetItems and new_item not in arr:\n",
    "                arr.append(new_item)     \n",
    "        return arr\n",
    "    \n",
    "    def nukeItem(self):\n",
    "        for i in range(self.attackSize):\n",
    "            for j in self.targetItems:\n",
    "                self.shillingProfiles[i][j] = 1 \n",
    "                \n",
    "    def pushItem(self):\n",
    "        for i in range(self.attackSize):\n",
    "            for j in self.targetItems:\n",
    "                self.shillingProfiles[i][j] = 5\n",
    "                \n",
    "    def injectProfiles(self):\n",
    "        self.ratingMatrix = np.vstack((self.ratingMatrix,self.shillingProfiles))\n",
    "        #np.random.shuffle(self.ratingMatrix)\n",
    "        \n",
    "    @abstractmethod     \n",
    "    def mountAttack(self):\n",
    "        pass\n",
    "#all commented out methods are for testing     \n",
    "   # def printRatingMatrix(self):\n",
    "   #     print('The Target Items are items: {}'.format(self.targetItems))\n",
    "   #     print('The Selected Items are items: {}'.format(self.selectedItems))\n",
    "   #     rows = len(self.ratingMatrix)\n",
    "   #     columns = len(self.ratingMatrix[0])\n",
    "   #     print('there are {} rows in the Rating Matrix'.format(rows))\n",
    "   #     print('there are {} columns in the Rating Matrix'.format(columns))\n",
    "   #     print('\\n')\n",
    "   #     print(self.ratingMatrix) "
   ]
  },
  {
   "cell_type": "code",
   "execution_count": 3,
   "id": "b5cb37fc",
   "metadata": {},
   "outputs": [],
   "source": [
    "#def test():\n",
    "    #Test = RandomAttack(95,169,[0,1,2],0)\n",
    "    #Test.printRatingMatrix()"
   ]
  },
  {
   "cell_type": "code",
   "execution_count": 4,
   "id": "17fdc14b",
   "metadata": {
    "scrolled": true
   },
   "outputs": [],
   "source": [
    "#test()"
   ]
  }
 ],
 "metadata": {
  "kernelspec": {
   "display_name": "Python 3 (ipykernel)",
   "language": "python",
   "name": "python3"
  },
  "language_info": {
   "codemirror_mode": {
    "name": "ipython",
    "version": 3
   },
   "file_extension": ".py",
   "mimetype": "text/x-python",
   "name": "python",
   "nbconvert_exporter": "python",
   "pygments_lexer": "ipython3",
   "version": "3.10.9"
  }
 },
 "nbformat": 4,
 "nbformat_minor": 5
}
