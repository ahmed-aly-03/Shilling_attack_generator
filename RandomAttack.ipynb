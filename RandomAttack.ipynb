{
 "cells": [
  {
   "cell_type": "code",
   "execution_count": 1,
   "id": "70bdac06",
   "metadata": {
    "scrolled": true
   },
   "outputs": [],
   "source": [
    "import numpy as np\n",
    "from ShillingAttack import Attack\n",
    "import random \n",
    "import math\n",
    "import csv\n",
    "from ML100KPrePreocessing import ML100KRatingMatrix\n",
    "from AmazonSoftwarePreprocessing import AmazonSoftwareRatingMatrix\n",
    "from AmazonFashionPreProcessing import AmazonFashionRatingMatrix"
   ]
  },
  {
   "cell_type": "code",
   "execution_count": 2,
   "id": "b5b8c12b",
   "metadata": {},
   "outputs": [],
   "source": [
    "class RandomAttack(Attack):\n",
    "    def __init__(self,attacksize,fillersize,targetItems,k,dataset):\n",
    "        super().__init__(attacksize,fillersize,targetItems,k,dataset)\n",
    "    \n",
    "    def createProfiles(self):\n",
    "        \n",
    "        self.pushItem() #use function to nuke items in case of a nuke attack \n",
    "        self.fillerItems = self.randomNumberGenerator()\n",
    "        \n",
    "        nonZeroRatingMatrix = self.ratingMatrix[self.ratingMatrix != 0]\n",
    "        \n",
    "        mean = np.mean(nonZeroRatingMatrix)\n",
    "        sd = np.std(nonZeroRatingMatrix)\n",
    "        \n",
    "        max = mean + 3*sd\n",
    "        min = mean - 3*sd\n",
    "        \n",
    "        #print('The mean of the dataset is: {}'.format(mean))  #Used for testing purposes\n",
    "        #print('The sd of the dataset is: {}'.format(sd)) #Used for testing purposes\n",
    "        \n",
    "        for i in range(self.attackSize):\n",
    "            j = 0\n",
    "            while j < self.fillerSize:\n",
    "                item = random.choice(self.fillerItems)\n",
    "                if item not in self.shillingProfiles[i]:\n",
    "                    rating = random.gauss(mean,sd)\n",
    "                    \n",
    "                    rating = math.ceil(1 + ((rating - min)/(max - min)) * 4) if max - min != 0 else 1\n",
    "                    #normalizing the output of the gaussian to be between 1 and 5\n",
    "                    \n",
    "                    if rating > 5:\n",
    "                        rating = 5\n",
    "                    if rating < 1:\n",
    "                        rating = 1\n",
    "                        \n",
    "                    self.shillingProfiles[i][item-1] = rating\n",
    "                    j += 1\n",
    "                    \n",
    "    def mountAttack(self):\n",
    "        self.createProfiles()\n",
    "        self.injectProfiles()\n",
    "        \n",
    "        if isinstance(self.RM,ML100KRatingMatrix): \n",
    "        \n",
    "            with open('ML100K_RandomAttack.csv','w') as file:\n",
    "                docWriter = csv.writer(file, delimiter = ',')\n",
    "                docWriter.writerows(self.ratingMatrix)\n",
    "                \n",
    "        elif isinstance(self.RM,AmazonFashionRatingMatrix):\n",
    "        \n",
    "            with open('AmazonFashion_RandomAttack.csv','w') as file:\n",
    "                docWriter = csv.writer(file, delimiter = ',')\n",
    "                docWriter.writerows(self.ratingMatrix)\n",
    "        else: \n",
    "            with open('AmazonSoftware_RandomAttack.csv','w') as file:\n",
    "                docWriter = csv.writer(file, delimiter = ',')\n",
    "                docWriter.writerows(self.ratingMatrix)"
   ]
  },
  {
   "cell_type": "code",
   "execution_count": 3,
   "id": "d545949b",
   "metadata": {},
   "outputs": [],
   "source": [
    "def test ():\n",
    "    Test = RandomAttack(95,169,[0,1,2],0,0)#change last input to change dataset\n",
    "    Test.mountAttack()"
   ]
  },
  {
   "cell_type": "code",
   "execution_count": 4,
   "id": "318fc9e6",
   "metadata": {},
   "outputs": [],
   "source": [
    "test()"
   ]
  }
 ],
 "metadata": {
  "kernelspec": {
   "display_name": "Python 3 (ipykernel)",
   "language": "python",
   "name": "python3"
  },
  "language_info": {
   "codemirror_mode": {
    "name": "ipython",
    "version": 3
   },
   "file_extension": ".py",
   "mimetype": "text/x-python",
   "name": "python",
   "nbconvert_exporter": "python",
   "pygments_lexer": "ipython3",
   "version": "3.10.9"
  }
 },
 "nbformat": 4,
 "nbformat_minor": 5
}
