{
 "cells": [
  {
   "cell_type": "code",
   "execution_count": 1,
   "id": "a483b85b",
   "metadata": {},
   "outputs": [],
   "source": [
    "import numpy as np\n",
    "from ShillingAttack import Attack\n",
    "import random \n",
    "import math\n",
    "import csv\n",
    "from ML100KPrePreocessing import ML100KRatingMatrix\n",
    "from AmazonSoftwarePreprocessing import AmazonSoftwareRatingMatrix\n",
    "from AmazonFashionPreProcessing import AmazonFashionRatingMatrix"
   ]
  },
  {
   "cell_type": "code",
   "execution_count": 2,
   "id": "584c8487",
   "metadata": {},
   "outputs": [],
   "source": [
    "class AverageAttack(Attack):\n",
    "    \n",
    "    def __init__(self,attacksize,fillersize,targetItems,k,dataset):\n",
    "        super().__init__(attacksize,fillersize,targetItems,k,dataset)\n",
    "    \n",
    "    def createProfiles(self):\n",
    "        self.pushItem() #use self.nukeItem case of a nuke attack \n",
    "        \n",
    "        self.fillerItems = self.randomNumberGenerator()\n",
    "        \n",
    "        mean = np.zeros(self.numberOfItems)\n",
    "        #mean is an array of length 1682, where each element,i, is the mean of the i-th item\n",
    "        sd = np.zeros(self.numberOfItems)\n",
    "        #sd is an array of length 1682, with each element,i, being the sd of the i-th item\n",
    "\n",
    "        for k in range(self.numberOfItems):\n",
    "            nonZeroColumn = np.array(self.ratingMatrix[:,k])\n",
    "            nonZeroColumn = nonZeroColumn[nonZeroColumn != 0]\n",
    "            mean[k] = np.mean(nonZeroColumn)\n",
    "            sd[k] = np.std(nonZeroColumn)\n",
    "    \n",
    "        for i in range (self.attackSize):\n",
    "            j = 0\n",
    "            while j < self.fillerSize:\n",
    "                item = random.choice(self.fillerItems)\n",
    "                if item not in self.shillingProfiles[i]:\n",
    "                    \n",
    "                    max = mean[item - 1] + 3*sd[item - 1]\n",
    "                    min = mean[item - 1] - 3*sd[item - 1]\n",
    "                    \n",
    "                    rating = random.gauss(mean[item - 1],sd[item - 1])\n",
    "                    rating = math.ceil(1 + ((rating - min)/(max - min)) * 4) if max - min != 0 else 1\n",
    "                    #normalizing the output of the gaussian to be between 1 and 5\n",
    "                    \n",
    "                    if rating > 5:\n",
    "                        rating = 5\n",
    "                    if rating < 1:\n",
    "                        rating = 1\n",
    "                        \n",
    "                    self.shillingProfiles[i][item - 1] = rating\n",
    "                    j += 1\n",
    "                    \n",
    "    def mountAttack(self):\n",
    "        self.createProfiles()\n",
    "        self.injectProfiles()\n",
    "        \n",
    "        if isinstance(self.RM,ML100KRatingMatrix): \n",
    "        \n",
    "            with open('ML100K_AverageAttack.csv','w') as file:\n",
    "                docWriter = csv.writer(file, delimiter = ',')\n",
    "                docWriter.writerows(self.ratingMatrix)\n",
    "                \n",
    "        elif isinstance(self.RM,AmazonFashionRatingMatrix):\n",
    "        \n",
    "            with open('AmazonFashion_AverageAttack.csv','w') as file:\n",
    "                docWriter = csv.writer(file, delimiter = ',')\n",
    "                docWriter.writerows(self.ratingMatrix)\n",
    "        else: \n",
    "            with open('AmazonSoftware_AverageAttack.csv','w') as file:\n",
    "                docWriter = csv.writer(file, delimiter = ',')\n",
    "                docWriter.writerows(self.ratingMatrix)"
   ]
  },
  {
   "cell_type": "code",
   "execution_count": 3,
   "id": "9dfe3fde",
   "metadata": {},
   "outputs": [],
   "source": [
    "def test ():\n",
    "    Test = AverageAttack(95,169,[0,1,2],0,0)#change last input to change dataset\n",
    "    Test.mountAttack()"
   ]
  },
  {
   "cell_type": "code",
   "execution_count": 4,
   "id": "0e73e9f4",
   "metadata": {},
   "outputs": [],
   "source": [
    "test()"
   ]
  }
 ],
 "metadata": {
  "kernelspec": {
   "display_name": "Python 3 (ipykernel)",
   "language": "python",
   "name": "python3"
  },
  "language_info": {
   "codemirror_mode": {
    "name": "ipython",
    "version": 3
   },
   "file_extension": ".py",
   "mimetype": "text/x-python",
   "name": "python",
   "nbconvert_exporter": "python",
   "pygments_lexer": "ipython3",
   "version": "3.10.9"
  }
 },
 "nbformat": 4,
 "nbformat_minor": 5
}
