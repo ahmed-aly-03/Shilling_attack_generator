{
 "cells": [
  {
   "cell_type": "code",
   "execution_count": 1,
   "id": "6788471f",
   "metadata": {},
   "outputs": [],
   "source": [
    "import pandas as pd \n",
    "import numpy as np\n",
    "import csv"
   ]
  },
  {
   "cell_type": "code",
   "execution_count": 2,
   "id": "e4a1dfba",
   "metadata": {
    "scrolled": true
   },
   "outputs": [
    {
     "data": {
      "text/plain": [
       "\" def printRatingMatrix(self):\\n\\n        print('\\n')\\n        print(self.ratingMatrix)\\n    \\n    def printDataSet(self) :\\n        print(self.dataSet)\\n    \\n    def printuserSet (self) :\\n        print(self.userSet)\\n    \\n    def printmoviesSet (self) :\\n        print(self.moviesSet)\""
      ]
     },
     "execution_count": 2,
     "metadata": {},
     "output_type": "execute_result"
    }
   ],
   "source": [
    "class ML100KRatingMatrix:\n",
    "    def __init__ (self):\n",
    "      \n",
    "        DScolumns = ['User_id', 'Item_id', 'Rating']\n",
    "        self.dataSet = pd.read_csv(\"/Users/ahmedaly/Desktop/Shilling Attacks/ml-100k 3/u.data\", sep = '\\t', names = DScolumns, engine = 'python', usecols = [0, 1, 2])\n",
    "        \n",
    "        MScolumns = ['MovieID', 'MovieTitle']\n",
    "        self.moviesSet = pd.read_csv(\"/Users/ahmedaly/Desktop/Shilling Attacks/ml-100k 3/u.item\", sep = '|', names = MScolumns, encoding = 'latin-1', usecols = [0, 1])\n",
    "\n",
    "        UScolumns = ['User_id']\n",
    "        self.userSet = pd.read_csv(\"/Users/ahmedaly/Desktop/Shilling Attacks/ml-100k 3/u.user\", sep = '|', names = UScolumns, usecols = [0])\n",
    "        \n",
    "        self.numberOfMovies = self.moviesSet.shape[0]\n",
    "        self.numberOfUsers = self.userSet.shape[0]\n",
    "        self.ratingMatrix = np.zeros((self.numberOfUsers, self.numberOfMovies))\n",
    "        \n",
    "    def createRatingMatrix(self):\n",
    "        for index, row in self.dataSet.iterrows():\n",
    "            userID = row['User_id']-1\n",
    "            itemID = row['Item_id']-1\n",
    "            rating = row['Rating']\n",
    "            self.ratingMatrix[userID][itemID] = rating   \n",
    "            \n",
    "        with open('MovieLens100K.csv','w') as file:\n",
    "            docWriter = csv.writer(file, delimiter = ',')\n",
    "            docWriter.writerows(self.ratingMatrix)\n",
    "    \n",
    "        return self.ratingMatrix\n",
    "    \n",
    "# def printRatingMatrix(self):\n",
    "\n",
    "#        print('\\n')\n",
    "#        print(self.ratingMatrix)\n",
    "    \n",
    "#    def printDataSet(self) :\n",
    "#        print(self.dataSet)\n",
    "    \n",
    "#    def printuserSet (self) :\n",
    "#        print(self.userSet)\n",
    "    \n",
    "#    def printmoviesSet (self) :\n",
    "#        print(self.moviesSet)'''\n",
    "   \n",
    "    #Commented out methods are for testing purposes    \n",
    "    #more methods can be added for preproccessing if required"
   ]
  },
  {
   "cell_type": "code",
   "execution_count": 3,
   "id": "9a0efb6d",
   "metadata": {
    "scrolled": true
   },
   "outputs": [
    {
     "data": {
      "text/plain": [
       "\"def test():\\n    test = RatingMatrix(0)\\n    test.createRatingMatrix()\\n    print('Rating Matrix:\\n')\\n    test.printRatingMatrix()\\n    print('\\nMovies Set:')\\n    test.printmoviesSet()\\n    print('\\nData Set:')\\n    test.printDataSet()\\n    print('\\nUser Set:')\\n    test.printuserSet()\""
      ]
     },
     "execution_count": 3,
     "metadata": {},
     "output_type": "execute_result"
    }
   ],
   "source": [
    "#def test():\n",
    "#    test = RatingMatrix(0)\n",
    "#    test.createRatingMatrix()\n",
    "#    print('Rating Matrix:\\n')\n",
    "#    test.printRatingMatrix()\n",
    "#    print('\\nMovies Set:')\n",
    "#    test.printmoviesSet()\n",
    "#    print('\\nData Set:')\n",
    "#    test.printDataSet()\n",
    "#    print('\\nUser Set:')\n",
    "#    test.printuserSet()'''"
   ]
  },
  {
   "cell_type": "code",
   "execution_count": 4,
   "id": "1b1ecc4d",
   "metadata": {
    "scrolled": false
   },
   "outputs": [],
   "source": [
    "#test()"
   ]
  }
 ],
 "metadata": {
  "kernelspec": {
   "display_name": "Python 3 (ipykernel)",
   "language": "python",
   "name": "python3"
  },
  "language_info": {
   "codemirror_mode": {
    "name": "ipython",
    "version": 3
   },
   "file_extension": ".py",
   "mimetype": "text/x-python",
   "name": "python",
   "nbconvert_exporter": "python",
   "pygments_lexer": "ipython3",
   "version": "3.10.11"
  }
 },
 "nbformat": 4,
 "nbformat_minor": 5
}
