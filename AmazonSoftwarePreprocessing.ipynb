{
 "cells": [
  {
   "cell_type": "code",
   "execution_count": 1,
   "id": "5d32eb06",
   "metadata": {},
   "outputs": [],
   "source": [
    "import pandas as pd\n",
    "import numpy as np\n",
    "import gzip\n",
    "import json\n",
    "import csv\n",
    "from sklearn.preprocessing import LabelEncoder "
   ]
  },
  {
   "cell_type": "code",
   "execution_count": 2,
   "id": "9253046d",
   "metadata": {},
   "outputs": [],
   "source": [
    "class AmazonSoftwareRatingMatrix:\n",
    "    def __init__(self):\n",
    "        \n",
    "        data = [] #loading the data into an array \n",
    "        with gzip.open('Software.json.gz') as file: \n",
    "            for l in file:\n",
    "                data.append(json.loads(l.strip()))\n",
    "        \n",
    "        useCols = ['overall','verified','reviewerID','asin']#Selecting  only data that is required for the generating the user-item matrix \n",
    "        self.dataSet = pd.DataFrame.from_dict(data)[useCols]\n",
    "        \n",
    "        self.dataSet.dropna(axis = 0, how = 'any', inplace = True)#Dropping any rows with empty elements \n",
    "        self.dataSet = self.dataSet[self.dataSet['verified']]#removing any unverified reviews\n",
    "        \n",
    "        numberOfUserReviews = self.dataSet['reviewerID'].value_counts()#removing users with under 5 reviews \n",
    "        self.dataSet = self.dataSet[self.dataSet['reviewerID'].isin(numberOfUserReviews[numberOfUserReviews >= 5].index)]\n",
    "        \n",
    "        numberOfItemReviews = self.dataSet['asin'].value_counts()#removing items with under 5 reviews \n",
    "        self.dataSet = self.dataSet[self.dataSet['asin'].isin(numberOfItemReviews[numberOfItemReviews >= 5].index)]\n",
    "        \n",
    "        self.encodedDataset = self.dataSet.copy()\n",
    "        \n",
    "        encoder = LabelEncoder()#encoding the data\n",
    "        self.encodedDataset['reviewerID'] = encoder.fit_transform( self.encodedDataset['reviewerID'])\n",
    "        self.encodedDataset['asin'] = encoder.fit_transform( self.encodedDataset['asin'])\n",
    "        \n",
    "        #print(self.encodedDataset)\n",
    "        \n",
    "    def createRatingMatrix(self):\n",
    "        self.encodedDataset = self.encodedDataset.drop_duplicates(['reviewerID', 'asin', 'overall'])\n",
    "        self.ratingMatrix = self.encodedDataset.pivot_table(index = 'reviewerID', columns ='asin', values = 'overall').fillna(0)\n",
    "        \n",
    "        ratingMatrix = self.ratingMatrix.to_numpy()  \n",
    "        self.numberOfItems = len(ratingMatrix[0])\n",
    "        self.numberOfUsers = len(ratingMatrix)\n",
    "        \n",
    "        with open('Amazon_Software.csv','w') as file:\n",
    "            docWriter = csv.writer(file, delimiter = ',')\n",
    "            docWriter.writerows(ratingMatrix)\n",
    "    \n",
    "        return ratingMatrix"
   ]
  },
  {
   "cell_type": "code",
   "execution_count": 3,
   "id": "bdb1141b",
   "metadata": {},
   "outputs": [],
   "source": [
    "#test = AmazonRatingMatrix()\n",
    "#testArr = test.createRatingMatrix()\n",
    "#print(testArr)"
   ]
  }
 ],
 "metadata": {
  "kernelspec": {
   "display_name": "Python 3 (ipykernel)",
   "language": "python",
   "name": "python3"
  },
  "language_info": {
   "codemirror_mode": {
    "name": "ipython",
    "version": 3
   },
   "file_extension": ".py",
   "mimetype": "text/x-python",
   "name": "python",
   "nbconvert_exporter": "python",
   "pygments_lexer": "ipython3",
   "version": "3.10.11"
  }
 },
 "nbformat": 4,
 "nbformat_minor": 5
}
